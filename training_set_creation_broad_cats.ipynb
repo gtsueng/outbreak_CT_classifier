{
 "cells": [
  {
   "cell_type": "markdown",
   "metadata": {},
   "source": [
    "## Clinical Trials training set creation"
   ]
  },
  {
   "cell_type": "code",
   "execution_count": 1,
   "metadata": {},
   "outputs": [],
   "source": [
    "import pandas\n",
    "from pandas import read_csv\n",
    "import pickle"
   ]
  },
  {
   "cell_type": "code",
   "execution_count": 2,
   "metadata": {},
   "outputs": [
    {
     "name": "stdout",
     "output_type": "stream",
     "text": [
      "           _id                                               name  \\\n",
      "0  NCT03348670  Follow NCT03305341 - Conducting an Initial Sma...   \n",
      "1  NCT04273646  Clinical Study of Human Umbilical Cord Mesench...   \n",
      "\n",
      "                                            abstract  \\\n",
      "0  Conducting an initial small, controlled clinic...   \n",
      "1  The novel coronavirus pneumonia is a kind of n...   \n",
      "\n",
      "                                         description  \\\n",
      "0  Conducting an initial small, controlled trial ...   \n",
      "1  Since December 2019, Wuhan has successively fo...   \n",
      "\n",
      "                                            keywords  \\\n",
      "0  ['Escape Mutation', 'ADE', 'Antigen Presentati...   \n",
      "1  ['2019 Novel Coronavirus Pneumonia', 'Safety',...   \n",
      "\n",
      "                                               url interventionCategory  \\\n",
      "0  https://clinicaltrials.gov/ct2/show/NCT03348670           biological   \n",
      "1  https://clinicaltrials.gov/ct2/show/NCT04273646     biological; drug   \n",
      "\n",
      "        studyType designAllocation designPrimaryPurpose  \n",
      "0  interventional              NaN            treatment  \n",
      "1  interventional       randomized            treatment  \n"
     ]
    }
   ],
   "source": [
    "original_data = read_csv('data/NCT_classification.csv', delimiter=',',header=0)\n",
    "print(original_data.head(n=2))"
   ]
  },
  {
   "cell_type": "code",
   "execution_count": 3,
   "metadata": {},
   "outputs": [
    {
     "name": "stdout",
     "output_type": "stream",
     "text": [
      "              _id keyword\n",
      "370   NCT04313322        \n",
      "7226  NCT04466839        \n"
     ]
    }
   ],
   "source": [
    "keyworddflist = []\n",
    "\n",
    "for i in range(len(original_data)):\n",
    "    identifier = original_data.iloc[i]['_id']\n",
    "    keywordlist = str(original_data.iloc[i]['keywords']).strip('[').strip(']').replace('-',' ').strip('\"').replace('\"','').replace(\"'\",\"\").split(',')\n",
    "    for eachword in keywordlist:\n",
    "        keyworddflist.append({'_id':identifier,'keyword':eachword.lower()})\n",
    "\n",
    "keyworddf = pandas.DataFrame(keyworddflist)\n",
    "keyworddf.sort_values('keyword',ascending=True,inplace=True)\n",
    "print(keyworddf.head(n=2))"
   ]
  },
  {
   "cell_type": "code",
   "execution_count": 4,
   "metadata": {},
   "outputs": [
    {
     "name": "stdout",
     "output_type": "stream",
     "text": [
      "                                               keyword  counts\n",
      "2994                                               nan    1268\n",
      "2704                                          covid 19     498\n",
      "641                                           covid 19     396\n",
      "2130                                        sars cov 2     245\n",
      "619                                        coronavirus     136\n",
      "3171                                        sars cov 2      98\n",
      "2685                                       coronavirus      66\n",
      "1817                                         pneumonia      63\n",
      "1127                                hydroxychloroquine      61\n",
      "306                                               ards      58\n",
      "2730                                           covid19      44\n",
      "667                                            covid19      41\n",
      "640                                              covid      37\n",
      "2143                                         sars cov2      36\n",
      "2701                                             covid      35\n",
      "159                acute respiratory distress syndrome      34\n",
      "293                                            anxiety      29\n",
      "728                                         depression      29\n",
      "603                                convalescent plasma      28\n",
      "1448                                     mental health      23\n",
      "2063                               respiratory failure      23\n",
      "1978                                   quality of life      23\n",
      "697                                     cytokine storm      23\n",
      "1724                                          pandemic      22\n",
      "2112                                            safety      21\n",
      "1268                               intensive care unit      20\n",
      "614                                       corona virus      20\n",
      "2198   severe acute respiratory syndrome coronavirus 2      19\n",
      "1429                            mechanical ventilation      17\n",
      "3176                                         sars cov2      16\n",
      "627                              coronavirus infection      16\n",
      "1892                                        prevention      16\n",
      "347                                       azithromycin      16\n",
      "1506                                         mortality      15\n",
      "1153                                               icu      15\n",
      "1054                                healthcare workers      14\n",
      "1628                                 novel coronavirus      14\n",
      "1883                                         pregnancy      14\n",
      "2678                               convalescent plasma      13\n",
      "2291                                            stress      13\n",
      "111                                          2019 ncov      12\n",
      "2186                                          serology      12\n",
      "676                                      critical care      12\n",
      "625                           coronavirus disease 2019      12\n",
      "2383                                       tocilizumab      12\n",
      "266                                         antibodies      12\n",
      "2405                                         treatment      12\n",
      "1403                                   lung ultrasound      12\n",
      "1231                                         infection      12\n",
      "2124                                              sars      11\n",
      "26                                            covid 19      11\n",
      "274                                    anticoagulation      11\n",
      "628                             coronavirus infections      10\n",
      "882                                       epidemiology      10\n",
      "1916                                       prophylaxis      10\n",
      "2497                                             virus      10\n",
      "2873                                hydroxychloroquine      10\n",
      "2681                                      corona virus      10\n",
      "2375                                        thrombosis      10\n",
      "1903                                         prognosis       9\n"
     ]
    }
   ],
   "source": [
    "frequencies = keyworddf.groupby('keyword').size().reset_index(name='counts')\n",
    "frequencies.sort_values('counts',ascending=False,inplace=True)\n",
    "print(frequencies.head(n=60))"
   ]
  },
  {
   "cell_type": "code",
   "execution_count": 5,
   "metadata": {},
   "outputs": [
    {
     "name": "stdout",
     "output_type": "stream",
     "text": [
      "   designPrimaryPurpose interventionCategory  counts\n",
      "63            treatment                 drug     796\n",
      "64            treatment                other     245\n"
     ]
    }
   ],
   "source": [
    "interventionlist = []\n",
    "\n",
    "for i in range(len(original_data)):\n",
    "    identifier = original_data.iloc[i]['_id']\n",
    "    purpose = original_data.iloc[i]['designPrimaryPurpose']\n",
    "    tmplist = str(original_data.iloc[i]['interventionCategory']).replace('; ',';').split(';')\n",
    "    for eachword in tmplist:\n",
    "        interventionlist.append({'_id':identifier,'designPrimaryPurpose':purpose,\n",
    "                                 'interventionCategory':eachword.lower()})\n",
    "\n",
    "interventiondf = pandas.DataFrame(interventionlist)\n",
    "purpose_frequency = interventiondf.groupby(['designPrimaryPurpose','interventionCategory']).size().reset_index(name='counts')\n",
    "purpose_frequency.sort_values('counts',ascending=False,inplace=True)\n",
    "print(purpose_frequency.head(n=2))"
   ]
  },
  {
   "cell_type": "code",
   "execution_count": 6,
   "metadata": {},
   "outputs": [],
   "source": [
    "mapping_dict = {'prevention':'Prevention',\n",
    "                'depression':'Behavioral Research',\n",
    "                'anxiety':'Behavioral Research',\n",
    "                'mental health':'Behavioral Research',\n",
    "                'stress':'Behavioral Research',\n",
    "                'lung ultrasound':'Pathology/Radiology',\n",
    "                'treatment':'Treatment',\n",
    "                'convalescent plasma':'Biologics',\n",
    "                'mortality':'Risk Factors',\n",
    "                'mechanical ventilation':'Medical Care',\n",
    "                'critical care':'Medical Care',\n",
    "                'epidemiology':'Epidemiology',\n",
    "                'personal protective equipment':'Individual Prevention',\n",
    "                'vaccine':'Vaccines',\n",
    "                'anosmia':'Symptoms',\n",
    "                'cell therapy':'Biologics',\n",
    "                'mesenchymal stem cells':'Biologics',\n",
    "                'diagnosis':'Diagnosis',\n",
    "                'rehabilitation':'Medical Care',\n",
    "                'pain':'Symptoms',\n",
    "                'obesity':'Risk Factors'}\n",
    "\n",
    "treatmentmap = {\"biological\":'Biologics',\n",
    "                \"behavioral\":\"Behavioral Research\",\n",
    "                \"device\":\"Medical Care\",\n",
    "                \"procedure\":\"Medical Care\",\n",
    "                \"radiation\":\"Medical Care\"}\n",
    "basicmap = {\"diagnostic\":\"Diagnosis\",\n",
    "            \"treatment\":\"Treatment\",\n",
    "            \"prevention\":\"Prevention\",\n",
    "            \"supportive care\":\"Treatment\",\n",
    "            \"behavioral\":\"Behavioral Research\"}"
   ]
  },
  {
   "cell_type": "code",
   "execution_count": 7,
   "metadata": {},
   "outputs": [
    {
     "name": "stdout",
     "output_type": "stream",
     "text": [
      "191\n",
      "behavioral:  191 , treatment:  1537\n",
      "prevention:  276 , diagnosis:  77\n"
     ]
    }
   ],
   "source": [
    "## Creating the lists\n",
    "behavioral = interventiondf['_id'].loc[interventiondf['interventionCategory']=='behavioral'].tolist()\n",
    "print(len(behavioral))\n",
    "treatment = interventiondf['_id'].loc[(interventiondf['designPrimaryPurpose']=='treatment')|\n",
    "                              (interventiondf['designPrimaryPurpose']=='supportive care')].tolist()\n",
    "\n",
    "prevention = interventiondf['_id'].loc[interventiondf['designPrimaryPurpose']=='prevention'].tolist()\n",
    "diagnosis = interventiondf['_id'].loc[interventiondf['designPrimaryPurpose']=='diagnostic'].tolist()\n",
    "\n",
    "drug = interventiondf['_id'].loc[interventiondf['interventionCategory']=='drug'].tolist()\n",
    "\n",
    "basic_science = interventiondf['_id'].loc[interventiondf['designPrimaryPurpose']=='basic science'].tolist()\n",
    "\n",
    "observational = original_data['_id'].loc[original_data['studyType']=='observational'].tolist()\n",
    "\n",
    "print(\"behavioral: \",len(behavioral),\", treatment: \",len(treatment))\n",
    "print(\"prevention: \",len(prevention),\", diagnosis: \",len(diagnosis))\n",
    "\n",
    "with open('data/behavioral.txt','wb') as dmpfile:\n",
    "    pickle.dump(behavioral,dmpfile)\n",
    "\n",
    "with open('data/treatment.txt','wb') as dumpfile:\n",
    "    pickle.dump(treatment,dumpfile)\n",
    "\n",
    "with open('data/prevention.txt','wb') as dampfile:\n",
    "    pickle.dump(prevention,dampfile)\n",
    "\n",
    "with open('data/diagnosis.txt','wb') as dimpfile:\n",
    "    pickle.dump(diagnosis,dimpfile)\n",
    "\n",
    "with open('data/drug.txt','wb') as dompfile:\n",
    "    pickle.dump(drug,dompfile)\n",
    "\n",
    "with open('data/basic science.txt','wb') as dampfile:\n",
    "    pickle.dump(basic_science,dampfile)\n",
    "\n",
    "with open('data/observational.txt','wb') as doompfile:\n",
    "    pickle.dump(observational,doompfile)"
   ]
  },
  {
   "cell_type": "code",
   "execution_count": null,
   "metadata": {},
   "outputs": [],
   "source": [
    "### To determine if a drug is new or being repurposed, look the drug up in drugbank.ca or Wikidata for market status\n",
    "### The training datasets for Diagnosis, prevention, and behavioral look to be at about the right size\n",
    "### The treatment set should be subsetted as much as possible"
   ]
  },
  {
   "cell_type": "code",
   "execution_count": 8,
   "metadata": {},
   "outputs": [
    {
     "name": "stdout",
     "output_type": "stream",
     "text": [
      "['prevention', 'depression', 'anxiety', 'mental health', 'stress', 'lung ultrasound', 'treatment', 'convalescent plasma', 'mortality', 'mechanical ventilation', 'critical care', 'epidemiology', 'personal protective equipment', 'vaccine', 'anosmia', 'cell therapy', 'mesenchymal stem cells', 'diagnosis', 'rehabilitation', 'pain', 'obesity']\n"
     ]
    }
   ],
   "source": [
    "mapping_text = list(mapping_dict.keys())\n",
    "print(mapping_text)"
   ]
  },
  {
   "cell_type": "code",
   "execution_count": 10,
   "metadata": {},
   "outputs": [
    {
     "name": "stdout",
     "output_type": "stream",
     "text": [
      "309\n"
     ]
    }
   ],
   "source": [
    "traindocs = []\n",
    "for i in range(len(original_data)):\n",
    "    identifier = original_data.iloc[i]['_id']\n",
    "    keywords = str(original_data.iloc[i]['keywords']).strip('[').strip(']').replace('-',' ').strip('\"').replace('\"','').replace(\"'\",\"\").replace(',',' ')\n",
    "    for eachword in mapping_text:\n",
    "        if eachword in keywords:\n",
    "            traindocs.append({'topicCategory':mapping_dict[eachword],'_id':identifier})\n",
    "\n",
    "traindf = pandas.DataFrame(traindocs)\n",
    "print(len(traindf))\n",
    "\n",
    "with open('data/specificCats.txt','wb') as dompfile:\n",
    "    pickle.dump(traindf,dompfile)"
   ]
  },
  {
   "cell_type": "code",
   "execution_count": 90,
   "metadata": {},
   "outputs": [
    {
     "name": "stdout",
     "output_type": "stream",
     "text": [
      "21\n"
     ]
    }
   ],
   "source": [
    "print(len(traindf.loc[traindf['topicCategory']=='Vaccines']))"
   ]
  },
  {
   "cell_type": "code",
   "execution_count": null,
   "metadata": {},
   "outputs": [],
   "source": []
  }
 ],
 "metadata": {
  "kernelspec": {
   "display_name": "Python 3",
   "language": "python",
   "name": "python3"
  },
  "language_info": {
   "codemirror_mode": {
    "name": "ipython",
    "version": 3
   },
   "file_extension": ".py",
   "mimetype": "text/x-python",
   "name": "python",
   "nbconvert_exporter": "python",
   "pygments_lexer": "ipython3",
   "version": "3.8.5"
  }
 },
 "nbformat": 4,
 "nbformat_minor": 4
}
