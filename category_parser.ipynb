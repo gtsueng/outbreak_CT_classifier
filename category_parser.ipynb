{
 "cells": [
  {
   "cell_type": "code",
   "execution_count": 1,
   "metadata": {},
   "outputs": [],
   "source": [
    "import json\n",
    "import pandas\n",
    "from pandas import read_csv\n",
    "import pickle"
   ]
  },
  {
   "cell_type": "code",
   "execution_count": 12,
   "metadata": {},
   "outputs": [],
   "source": [
    "behavioral = read_csv('results/predictions/behavioral_randomforest.tsv', delimiter = '\\t',header=0,index_col=0)\n",
    "diagnosis = read_csv('results/predictions/diagnosis_randomforest.tsv', delimiter = '\\t',header=0,index_col=0)\n",
    "prevention = read_csv('results/predictions/prevention_randomforest.tsv', delimiter = '\\t',header=0,index_col=0)\n",
    "treatment = read_csv('results/predictions/treatment_randomforest.tsv', delimiter = '\\t',header=0,index_col=0)"
   ]
  },
  {
   "cell_type": "code",
   "execution_count": 13,
   "metadata": {},
   "outputs": [
    {
     "name": "stdout",
     "output_type": "stream",
     "text": [
      "           _id treatment_prediction\n",
      "0  NCT04423614            treatment\n",
      "1  NCT04377776                     \n"
     ]
    }
   ],
   "source": [
    "behavioral['behavioral_prediction'].replace('not behavioral','', inplace=True)\n",
    "diagnosis['diagnosis_prediction'].replace('not diagnosis','', inplace=True)\n",
    "prevention['prevention_prediction'].replace('not prevention','', inplace=True)\n",
    "treatment['treatment_prediction'].replace('not treatment','', inplace=True)\n",
    "print(treatment.head(n=2))"
   ]
  },
  {
   "cell_type": "code",
   "execution_count": 50,
   "metadata": {},
   "outputs": [],
   "source": [
    "topicCategories = behavioral.merge(diagnosis.merge(prevention.merge(treatment,on='_id',how='outer'),on='_id',how='outer'),on='_id',how='outer')\n",
    "topicCategories['topicCategory'] = 'XZ'+topicCategories[['behavioral_prediction',\n",
    "                                                    'diagnosis_prediction',\n",
    "                                                    'prevention_prediction',\n",
    "                                                    'treatment_prediction']].apply(lambda x: ','.join(x), axis=1)+'XY'\n",
    "has_cats = topicCategories.loc[topicCategories['topicCategory']!='XZ,,,XY'].copy()\n",
    "has_cats['topicCategory'] = has_cats['topicCategory'].str.replace(',,,',',')\n",
    "has_cats['topicCategory'] = has_cats['topicCategory'].str.replace(',,',',')\n",
    "has_cats['topicCategory'] = has_cats['topicCategory'].str.replace('XZ,','XZ')\n",
    "has_cats['topicCategory'] = has_cats['topicCategory'].str.replace(',XY','XY')\n",
    "has_cats['topicCategory'] = has_cats['topicCategory'].str.replace('XZ','[')\n",
    "has_cats['topicCategory'] = has_cats['topicCategory'].str.replace('XY',']')\n",
    "\n",
    "has_cats.drop(columns=['behavioral_prediction','diagnosis_prediction','prevention_prediction','treatment_prediction'],inplace=True)\n",
    "\n",
    "has_cats.to_csv('results/ct_topic.tsv',sep='\\t',header=True)"
   ]
  },
  {
   "cell_type": "code",
   "execution_count": null,
   "metadata": {},
   "outputs": [],
   "source": []
  }
 ],
 "metadata": {
  "kernelspec": {
   "display_name": "Python 3",
   "language": "python",
   "name": "python3"
  },
  "language_info": {
   "codemirror_mode": {
    "name": "ipython",
    "version": 3
   },
   "file_extension": ".py",
   "mimetype": "text/x-python",
   "name": "python",
   "nbconvert_exporter": "python",
   "pygments_lexer": "ipython3",
   "version": "3.8.5"
  }
 },
 "nbformat": 4,
 "nbformat_minor": 4
}
